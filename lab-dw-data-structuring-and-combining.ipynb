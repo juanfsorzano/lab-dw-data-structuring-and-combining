{
 "cells": [
  {
   "cell_type": "markdown",
   "id": "25d7736c-ba17-4aff-b6bb-66eba20fbf4e",
   "metadata": {
    "id": "25d7736c-ba17-4aff-b6bb-66eba20fbf4e"
   },
   "source": [
    "# Lab | Data Structuring and Combining Data"
   ]
  },
  {
   "cell_type": "markdown",
   "id": "a2cdfc70-44c8-478c-81e7-2bc43fdf4986",
   "metadata": {
    "id": "a2cdfc70-44c8-478c-81e7-2bc43fdf4986"
   },
   "source": [
    "## Challenge 1: Combining & Cleaning Data\n",
    "\n",
    "In this challenge, we will be working with the customer data from an insurance company, as we did in the two previous labs. The data can be found here:\n",
    "- https://raw.githubusercontent.com/data-bootcamp-v4/data/main/file1.csv\n",
    "\n",
    "But this time, we got new data, which can be found in the following 2 CSV files located at the links below.\n",
    "\n",
    "- https://raw.githubusercontent.com/data-bootcamp-v4/data/main/file2.csv\n",
    "- https://raw.githubusercontent.com/data-bootcamp-v4/data/main/file3.csv\n",
    "\n",
    "Note that you'll need to clean and format the new data.\n",
    "\n",
    "Observation:\n",
    "- One option is to first combine the three datasets and then apply the cleaning function to the new combined dataset\n",
    "- Another option would be to read the clean file you saved in the previous lab, and just clean the two new files and concatenate the three clean datasets"
   ]
  },
  {
   "cell_type": "code",
   "execution_count": 2,
   "id": "492d06e3-92c7-4105-ac72-536db98d3244",
   "metadata": {
    "id": "492d06e3-92c7-4105-ac72-536db98d3244"
   },
   "outputs": [],
   "source": [
    "# Your code goes here\n",
    "import pandas as pd\n",
    "import numpy as np\n",
    "\n",
    "files = [\n",
    "    \"https://raw.githubusercontent.com/data-bootcamp-v4/data/main/file1.csv\",\n",
    "    \"https://raw.githubusercontent.com/data-bootcamp-v4/data/main/file2.csv\",\n",
    "    \"https://raw.githubusercontent.com/data-bootcamp-v4/data/main/file3.csv\",\n",
    "]\n",
    "data_list = [pd.read_csv(f) for f in files]\n",
    "for csv in data_list:\n",
    "    csv.dropna(axis=0, how=\"all\", inplace=True)\n"
   ]
  },
  {
   "cell_type": "code",
   "execution_count": 3,
   "id": "01b137ee",
   "metadata": {},
   "outputs": [],
   "source": [
    "for df in data_list:\n",
    "    df.columns = [item.lower().replace(' ', '_') for item in df.columns]\n",
    "    df.columns = [item.replace('st', 'state') if item == 'st' else item for item in df.columns]"
   ]
  },
  {
   "cell_type": "code",
   "execution_count": 4,
   "id": "8b74d6e7",
   "metadata": {},
   "outputs": [],
   "source": [
    "data = pd.concat(data_list, ignore_index=True)"
   ]
  },
  {
   "cell_type": "code",
   "execution_count": 5,
   "id": "d8ce56a5",
   "metadata": {},
   "outputs": [
    {
     "data": {
      "text/plain": [
       "3"
      ]
     },
     "execution_count": 5,
     "metadata": {},
     "output_type": "execute_result"
    }
   ],
   "source": [
    "len(data) - len(data.drop_duplicates())"
   ]
  },
  {
   "cell_type": "code",
   "execution_count": 6,
   "id": "a268bb71",
   "metadata": {},
   "outputs": [],
   "source": [
    "#DEFINING FUNCTIONS\n",
    "\n",
    "def convert_lt_value(element):\n",
    "    if element == np.nan:\n",
    "        return np.nan\n",
    "    if type(element)==float:\n",
    "        return element\n",
    "    if element[-1] == \"%\":\n",
    "        return float(element[:-1])/100\n",
    "    \n",
    "def convert_num_complaints(element):\n",
    "    if type(element) != str:\n",
    "        return np.nan\n",
    "    if element[2].isdigit():\n",
    "        return int(element[2])\n",
    "    else:\n",
    "        return np.nan\n",
    "\n",
    "def convert_gender(element):\n",
    "    if type(element) == float:\n",
    "        return np.nan\n",
    "    if element[0].lower() == \"f\":\n",
    "        return \"f\"\n",
    "    if element[0].lower() == \"m\":\n",
    "        return \"m\"\n",
    "    else:\n",
    "        return np.nan\n",
    "\n",
    "def convert_income(element):\n",
    "    if element == 0:\n",
    "        return np.nan\n",
    "    else:\n",
    "        return element\n",
    "    \n",
    "def convert_st(element):\n",
    "    return element[0:2].upper()\n",
    "\n",
    "def convert_edu(element):\n",
    "    if element == \"Bachelors\":\n",
    "        return \"Bachelor\"\n",
    "    return element.strip()\n",
    "\n",
    "def convert_vehicleclass(element):\n",
    "    if element in[\"Sports Car\", \"Luxury SUV\", \"Luxury Car\" ]:\n",
    "        return \"Luxury\"\n",
    "    return element\n"
   ]
  },
  {
   "cell_type": "code",
   "execution_count": 8,
   "id": "333ead85",
   "metadata": {},
   "outputs": [],
   "source": [
    "#CALLING FUNCTIONS\n",
    "\n",
    "#NUMERICAL\n",
    "data[\"customer_lifetime_value_r\"] = data[\"customer_lifetime_value\"].apply(convert_lt_value)\n",
    "data[\"number_of_open_complaints_r\"] = data[\"number_of_open_complaints\"].apply(convert_num_complaints)\n",
    "data[\"income_r\"] = data[\"income\"].apply(convert_income)\n",
    "\n",
    "\n",
    "#CATEGORICAL\n",
    "data[\"gender_r\"] = data[\"gender\"].apply(convert_gender)\n",
    "data[\"state_r\"] = data[\"state\"].apply(convert_st)\n",
    "data[\"education_r\"] = data[\"education\"].apply(convert_edu)\n",
    "data[\"vehicle_class_r\"] =data[\"vehicle_class\"].apply(convert_vehicleclass)"
   ]
  },
  {
   "cell_type": "code",
   "execution_count": 9,
   "id": "86210830",
   "metadata": {},
   "outputs": [
    {
     "name": "stdout",
     "output_type": "stream",
     "text": [
      "Index(['customer', 'state', 'gender', 'education', 'customer_lifetime_value',\n",
      "       'income', 'monthly_premium_auto', 'number_of_open_complaints',\n",
      "       'policy_type', 'vehicle_class', 'total_claim_amount',\n",
      "       'customer_lifetime_value_r', 'number_of_open_complaints_r', 'income_r',\n",
      "       'gender_r', 'state_r', 'education_r', 'vehicle_class_r'],\n",
      "      dtype='object')\n"
     ]
    },
    {
     "data": {
      "text/plain": [
       "(9137, 18)"
      ]
     },
     "execution_count": 9,
     "metadata": {},
     "output_type": "execute_result"
    }
   ],
   "source": [
    "print(data.columns)\n",
    "data.shape"
   ]
  },
  {
   "cell_type": "code",
   "execution_count": 16,
   "id": "70c4c182",
   "metadata": {},
   "outputs": [
    {
     "data": {
      "text/plain": [
       "9056"
      ]
     },
     "execution_count": 16,
     "metadata": {},
     "output_type": "execute_result"
    }
   ],
   "source": [
    "len(data[\"customer\"].unique())"
   ]
  },
  {
   "cell_type": "markdown",
   "id": "31b8a9e7-7db9-4604-991b-ef6771603e57",
   "metadata": {
    "id": "31b8a9e7-7db9-4604-991b-ef6771603e57"
   },
   "source": [
    "# Challenge 2: Structuring Data"
   ]
  },
  {
   "cell_type": "markdown",
   "id": "a877fd6d-7a0c-46d2-9657-f25036e4ca4b",
   "metadata": {
    "id": "a877fd6d-7a0c-46d2-9657-f25036e4ca4b"
   },
   "source": [
    "In this challenge, we will continue to work with customer data from an insurance company, but we will use a dataset with more columns, called marketing_customer_analysis.csv, which can be found at the following link:\n",
    "\n",
    "https://raw.githubusercontent.com/data-bootcamp-v4/data/main/marketing_customer_analysis_clean.csv\n",
    "\n",
    "This dataset contains information such as customer demographics, policy details, vehicle information, and the customer's response to the last marketing campaign. Our goal is to explore and analyze this data by performing data cleaning, formatting, and structuring."
   ]
  },
  {
   "cell_type": "code",
   "execution_count": 10,
   "id": "aa10d9b0-1c27-4d3f-a8e4-db6ab73bfd26",
   "metadata": {
    "id": "aa10d9b0-1c27-4d3f-a8e4-db6ab73bfd26"
   },
   "outputs": [],
   "source": [
    "marketing_data = pd.read_csv(\"https://raw.githubusercontent.com/data-bootcamp-v4/data/main/marketing_customer_analysis_clean.csv\")\n",
    "marketing_data.dropna(axis=0, how=\"all\", inplace=True)"
   ]
  },
  {
   "cell_type": "code",
   "execution_count": 11,
   "id": "c5019efc",
   "metadata": {},
   "outputs": [
    {
     "data": {
      "text/plain": [
       "Index(['unnamed:_0', 'customer', 'state', 'customer_lifetime_value',\n",
       "       'response', 'coverage', 'education', 'effective_to_date',\n",
       "       'employmentstatus', 'gender', 'income', 'location_code',\n",
       "       'marital_status', 'monthly_premium_auto', 'months_since_last_claim',\n",
       "       'months_since_policy_inception', 'number_of_open_complaints',\n",
       "       'number_of_policies', 'policy_type', 'policy', 'renew_offer_type',\n",
       "       'sales_channel', 'total_claim_amount', 'vehicle_class', 'vehicle_size',\n",
       "       'vehicle_type', 'month'],\n",
       "      dtype='object')"
      ]
     },
     "execution_count": 11,
     "metadata": {},
     "output_type": "execute_result"
    }
   ],
   "source": [
    "marketing_data.columns"
   ]
  },
  {
   "cell_type": "code",
   "execution_count": 17,
   "id": "0800f61e",
   "metadata": {},
   "outputs": [
    {
     "data": {
      "text/plain": [
       "9134"
      ]
     },
     "execution_count": 17,
     "metadata": {},
     "output_type": "execute_result"
    }
   ],
   "source": [
    "len(marketing_data[\"customer\"].unique())"
   ]
  },
  {
   "cell_type": "code",
   "execution_count": 51,
   "id": "bfd60aab",
   "metadata": {},
   "outputs": [
    {
     "name": "stdout",
     "output_type": "stream",
     "text": [
      "Initial dataframe size:  (9137, 18) unique customer ID:  9056\n",
      "Duplicates in data:  81\n",
      "Marketing dataframe size  (10910, 27) unique customer ID:  9134\n",
      "Duplicates in marketing data:  1776\n",
      "merged result  (10910, 44) unique customer ID:  9056\n",
      "Duplicates in marketing data:  1854\n"
     ]
    }
   ],
   "source": [
    "#INNER JOIN\n",
    "print(\"Initial dataframe size: \", data.shape, \"unique customer ID: \", len(data[\"customer\"].unique()))\n",
    "print(\"Duplicates in data: \",len(data) - len(data.drop_duplicates(subset=[\"customer\"])))\n",
    "print(\"Marketing dataframe size \", marketing_data.shape, \"unique customer ID: \", len(marketing_data[\"customer\"].unique()))\n",
    "print(\"Duplicates in marketing data: \", len(marketing_data) - len(marketing_data.drop_duplicates(subset=[\"customer\"])))\n",
    "merged_df = pd.merge(data, marketing_data, on='customer', how='left')\n",
    "print(\"merged result \", merged_df.shape, \"unique customer ID: \", len(data[\"customer\"].unique()))\n",
    "print(\"Duplicates in marketing data: \", len(merged_df) - len(merged_df.drop_duplicates(subset=[\"customer\"])))"
   ]
  },
  {
   "cell_type": "markdown",
   "id": "df35fd0d-513e-4e77-867e-429da10a9cc7",
   "metadata": {
    "id": "df35fd0d-513e-4e77-867e-429da10a9cc7"
   },
   "source": [
    "1. You work at the marketing department and you want to know which sales channel brought the most sales in terms of total revenue. Using pivot, create a summary table showing the total revenue for each sales channel (branch, call center, web, and mail).\n",
    "Round the total revenue to 2 decimal points.  Analyze the resulting table to draw insights."
   ]
  },
  {
   "cell_type": "code",
   "execution_count": 59,
   "id": "c130155e",
   "metadata": {},
   "outputs": [
    {
     "data": {
      "text/html": [
       "<div>\n",
       "<style scoped>\n",
       "    .dataframe tbody tr th:only-of-type {\n",
       "        vertical-align: middle;\n",
       "    }\n",
       "\n",
       "    .dataframe tbody tr th {\n",
       "        vertical-align: top;\n",
       "    }\n",
       "\n",
       "    .dataframe thead th {\n",
       "        text-align: right;\n",
       "    }\n",
       "</style>\n",
       "<table border=\"1\" class=\"dataframe\">\n",
       "  <thead>\n",
       "    <tr style=\"text-align: right;\">\n",
       "      <th></th>\n",
       "      <th>income</th>\n",
       "    </tr>\n",
       "    <tr>\n",
       "      <th>sales_channel</th>\n",
       "      <th></th>\n",
       "    </tr>\n",
       "  </thead>\n",
       "  <tbody>\n",
       "    <tr>\n",
       "      <th>Agent</th>\n",
       "      <td>37003.19</td>\n",
       "    </tr>\n",
       "    <tr>\n",
       "      <th>Branch</th>\n",
       "      <td>37649.11</td>\n",
       "    </tr>\n",
       "    <tr>\n",
       "      <th>Call Center</th>\n",
       "      <td>37858.48</td>\n",
       "    </tr>\n",
       "    <tr>\n",
       "      <th>Web</th>\n",
       "      <td>38253.45</td>\n",
       "    </tr>\n",
       "  </tbody>\n",
       "</table>\n",
       "</div>"
      ],
      "text/plain": [
       "                 income\n",
       "sales_channel          \n",
       "Agent          37003.19\n",
       "Branch         37649.11\n",
       "Call Center    37858.48\n",
       "Web            38253.45"
      ]
     },
     "execution_count": 59,
     "metadata": {},
     "output_type": "execute_result"
    }
   ],
   "source": [
    "marketing_data.pivot_table(values=\"income\", index=\"sales_channel\", aggfunc=\"mean\").round(2)"
   ]
  },
  {
   "cell_type": "markdown",
   "id": "640993b2-a291-436c-a34d-a551144f8196",
   "metadata": {
    "id": "640993b2-a291-436c-a34d-a551144f8196"
   },
   "source": [
    "2. Create a pivot table that shows the average customer lifetime value per gender and education level. Analyze the resulting table to draw insights."
   ]
  },
  {
   "cell_type": "code",
   "execution_count": 58,
   "id": "c556de6c",
   "metadata": {},
   "outputs": [
    {
     "data": {
      "text/html": [
       "<div>\n",
       "<style scoped>\n",
       "    .dataframe tbody tr th:only-of-type {\n",
       "        vertical-align: middle;\n",
       "    }\n",
       "\n",
       "    .dataframe tbody tr th {\n",
       "        vertical-align: top;\n",
       "    }\n",
       "\n",
       "    .dataframe thead th {\n",
       "        text-align: right;\n",
       "    }\n",
       "</style>\n",
       "<table border=\"1\" class=\"dataframe\">\n",
       "  <thead>\n",
       "    <tr style=\"text-align: right;\">\n",
       "      <th></th>\n",
       "      <th></th>\n",
       "      <th>customer_lifetime_value</th>\n",
       "    </tr>\n",
       "    <tr>\n",
       "      <th>gender</th>\n",
       "      <th>education</th>\n",
       "      <th></th>\n",
       "    </tr>\n",
       "  </thead>\n",
       "  <tbody>\n",
       "    <tr>\n",
       "      <th rowspan=\"5\" valign=\"top\">F</th>\n",
       "      <th>Bachelor</th>\n",
       "      <td>7874.27</td>\n",
       "    </tr>\n",
       "    <tr>\n",
       "      <th>College</th>\n",
       "      <td>7748.82</td>\n",
       "    </tr>\n",
       "    <tr>\n",
       "      <th>Doctor</th>\n",
       "      <td>7328.51</td>\n",
       "    </tr>\n",
       "    <tr>\n",
       "      <th>High School or Below</th>\n",
       "      <td>8675.22</td>\n",
       "    </tr>\n",
       "    <tr>\n",
       "      <th>Master</th>\n",
       "      <td>8157.05</td>\n",
       "    </tr>\n",
       "    <tr>\n",
       "      <th rowspan=\"5\" valign=\"top\">M</th>\n",
       "      <th>Bachelor</th>\n",
       "      <td>7703.60</td>\n",
       "    </tr>\n",
       "    <tr>\n",
       "      <th>College</th>\n",
       "      <td>8052.46</td>\n",
       "    </tr>\n",
       "    <tr>\n",
       "      <th>Doctor</th>\n",
       "      <td>7415.33</td>\n",
       "    </tr>\n",
       "    <tr>\n",
       "      <th>High School or Below</th>\n",
       "      <td>8149.69</td>\n",
       "    </tr>\n",
       "    <tr>\n",
       "      <th>Master</th>\n",
       "      <td>8168.83</td>\n",
       "    </tr>\n",
       "  </tbody>\n",
       "</table>\n",
       "</div>"
      ],
      "text/plain": [
       "                             customer_lifetime_value\n",
       "gender education                                    \n",
       "F      Bachelor                              7874.27\n",
       "       College                               7748.82\n",
       "       Doctor                                7328.51\n",
       "       High School or Below                  8675.22\n",
       "       Master                                8157.05\n",
       "M      Bachelor                              7703.60\n",
       "       College                               8052.46\n",
       "       Doctor                                7415.33\n",
       "       High School or Below                  8149.69\n",
       "       Master                                8168.83"
      ]
     },
     "execution_count": 58,
     "metadata": {},
     "output_type": "execute_result"
    }
   ],
   "source": [
    "marketing_data.pivot_table(values=\"customer_lifetime_value\", index=[\"gender\", \"education\"], aggfunc=\"mean\").round(2)"
   ]
  },
  {
   "cell_type": "markdown",
   "id": "32c7f2e5-3d90-43e5-be33-9781b6069198",
   "metadata": {
    "id": "32c7f2e5-3d90-43e5-be33-9781b6069198"
   },
   "source": [
    "## Bonus\n",
    "\n",
    "You work at the customer service department and you want to know which months had the highest number of complaints by policy type category. Create a summary table showing the number of complaints by policy type and month.\n",
    "Show it in a long format table."
   ]
  },
  {
   "cell_type": "markdown",
   "id": "e3d09a8f-953c-448a-a5f8-2e5a8cca7291",
   "metadata": {
    "id": "e3d09a8f-953c-448a-a5f8-2e5a8cca7291"
   },
   "source": [
    "*In data analysis, a long format table is a way of structuring data in which each observation or measurement is stored in a separate row of the table. The key characteristic of a long format table is that each column represents a single variable, and each row represents a single observation of that variable.*\n",
    "\n",
    "*More information about long and wide format tables here: https://www.statology.org/long-vs-wide-data/*"
   ]
  },
  {
   "cell_type": "code",
   "execution_count": null,
   "id": "3a069e0b-b400-470e-904d-d17582191be4",
   "metadata": {
    "id": "3a069e0b-b400-470e-904d-d17582191be4"
   },
   "outputs": [],
   "source": [
    "# Your code goes here"
   ]
  }
 ],
 "metadata": {
  "colab": {
   "provenance": []
  },
  "kernelspec": {
   "display_name": "Python 3 (ipykernel)",
   "language": "python",
   "name": "python3"
  },
  "language_info": {
   "codemirror_mode": {
    "name": "ipython",
    "version": 3
   },
   "file_extension": ".py",
   "mimetype": "text/x-python",
   "name": "python",
   "nbconvert_exporter": "python",
   "pygments_lexer": "ipython3",
   "version": "3.12.3"
  }
 },
 "nbformat": 4,
 "nbformat_minor": 5
}
